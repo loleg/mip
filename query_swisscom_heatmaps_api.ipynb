{
 "cells": [
  {
   "cell_type": "code",
   "execution_count": null,
   "id": "51314c6a",
   "metadata": {},
   "outputs": [],
   "source": [
    "import random\n",
    "import statistics\n",
    "from collections import defaultdict\n",
    "from datetime import datetime, timedelta, date\n",
    "\n",
    "import matplotlib.pyplot as plt\n",
    "from oauthlib.oauth2 import BackendApplicationClient\n",
    "from requests_oauthlib import OAuth2Session\n",
    "import os"
   ]
  },
  {
   "cell_type": "code",
   "execution_count": null,
   "id": "11d7ace2",
   "metadata": {},
   "outputs": [],
   "source": [
    "BASE_URL = \"https://api.swisscom.com/layer/heatmaps/demo\"\n",
    "TOKEN_URL = \"https://consent.swisscom.com/o/oauth2/token\"\n",
    "MAX_NB_TILES_REQUEST = 100\n",
    "headers = {\"scs-version\": \"2\"}  # API version\n",
    "client_id = os.environ.get(\"SWISSCOM_KEY\",\"\") # customer key in the Swisscom digital market place\n",
    "client_secret = os.environ.get(\"SWISSCOM_SECRET\",\"\") # customer secret in the Swisscom digital market place\n",
    "\n",
    "assert client_id, \"client id not defined\"\n",
    "assert client_secret, \"client_secret not defined\""
   ]
  },
  {
   "cell_type": "code",
   "execution_count": null,
   "id": "a28fcda1",
   "metadata": {},
   "outputs": [],
   "source": [
    "def compute_density_baseline(tile_ids: list,\n",
    "                             start_date=date(year=2020, month=1, day=27),\n",
    "                             nb_days: int = 29) -> dict:\n",
    "    # The baseline is the median value, for the corresponding day of the week,\n",
    "    # during the nb_days following start_date\"\n",
    "    day2densities = defaultdict(list)\n",
    "    for delta in range(nb_days):\n",
    "        dt = start_date + timedelta(days=delta)\n",
    "        day2densities[dt.weekday()].append(get_daily_density(dt, tile_ids))\n",
    "    weekday2density = {wday: statistics.median(v)\n",
    "                       for wday, v in day2densities.items()}\n",
    "    return weekday2density\n",
    "\n",
    "\n",
    "def get_daily_demographics(date: date, tile_ids: list) -> dict:\n",
    "    api_request = oauth.get(BASE_URL + \"/heatmaps/dwell-demographics/daily/{0}\".format(date.isoformat()),\n",
    "                            headers=headers, params={'tiles': tile_ids})\n",
    "    f = open('daily_demographics.json', 'w+')\n",
    "    f.write(api_request.text)\n",
    "    f.close()\n",
    "    return api_request.json()\n",
    "\n",
    "\n",
    "def get_daily_density(from_date: date, tile_ids: list) -> float:\n",
    "    hacker_date = date(year=2020, month=1, day=27)\n",
    "    api_request = oauth.get(BASE_URL + \"/heatmaps/dwell-density/daily/{0}\".format(hacker_date.isoformat()),\n",
    "                            headers=headers, params={'tiles': tile_ids})\n",
    "    tiles_json = api_request.json()\n",
    "    f = open('get_daily_density.json', 'w+')\n",
    "    f.write(api_request.text)\n",
    "    f.close()\n",
    "    #print(from_date, tile_ids)\n",
    "    #print(tiles_json)\n",
    "    tiles_date = tiles_json['tiles']\n",
    "    return sum([t['score'] for t in tiles_date])\n",
    "\n",
    "\n",
    "def get_bezirk_tiles(bezirk_id: int):\n",
    "    api_request = oauth.get(BASE_URL + \"/grids/districts/%d\" % bezirk_id,\n",
    "                           headers=headers)\n",
    "    f = open('bezirk_tiles.json', 'w+')\n",
    "    f.write(api_request.text)\n",
    "    f.close()\n",
    "    print(api_request.text)\n",
    "\n",
    "\n",
    "def get_density_variation(date: date, tile_ids: list, weekday2density: dict) -> float:\n",
    "    daily_score_date = get_daily_density(date, tile_ids)\n",
    "    density_baseline = weekday2density[date.weekday()]\n",
    "    variation = (daily_score_date - density_baseline) / density_baseline\n",
    "    return 100*variation\n",
    "\n",
    "\n",
    "def get_tile_ids_postal_code(postal_code: int) -> list:\n",
    "    # Randomly sample MAX_NB_TILES_REQUEST tile ids\n",
    "    # associated with the postal code of interest\n",
    "    url = BASE_URL + \"/grids/postal-code-areas/{0}\".format(postal_code)\n",
    "    tiles_raw = oauth.get(url, headers=headers).json()\n",
    "    if \"message\" in tiles_raw:\n",
    "        print(tiles_raw[\"message\"])\n",
    "        return None\n",
    "    tiles_json = tiles_raw #.json()\n",
    "    tile_ids = random.sample([t[\"tileId\"]\n",
    "                              for t in tiles_json[\"tiles\"]], MAX_NB_TILES_REQUEST)\n",
    "    return tile_ids\n",
    "\n",
    "\n",
    "def get_density_variation_time_period(tile_ids, start_date, nb_days) -> dict:\n",
    "    weekday2density = compute_density_baseline(tile_ids)\n",
    "    date2variation = dict()\n",
    "    #if True:\n",
    "    #    return get_density_variation(start_date, tile_ids, weekday2density)\n",
    "    for delta in range(nb_days):\n",
    "        dt = start_date + timedelta(days=delta)\n",
    "        date2variation[dt] = get_density_variation(\n",
    "            dt, tile_ids, weekday2density)\n",
    "    return date2variation\n",
    "\n",
    "\n",
    "def plot_density_variation_tile_ids(tile_ids, start_date, nb_days):\n",
    "    date2variation = get_density_variation_time_period(\n",
    "        tile_ids, start_date, nb_days)\n",
    "    dates, scores = zip(*sorted(date2variation.items()))\n",
    "    fig, ax = plt.subplots()\n",
    "    ax.spines['top'].set_visible(False)\n",
    "    ax.spines['right'].set_visible(False)\n",
    "    ax.yaxis.grid()\n",
    "    plt.ylim(-100, 100)\n",
    "    plt.fill_between(dates, scores, alpha=0.5,\n",
    "                     joinstyle=\"round\", color='tab:blue')\n",
    "    fig.autofmt_xdate(rotation=45)\n",
    "    plt.ylabel(\"Percentage variation\")\n",
    "    fig.tight_layout()\n",
    "    plt.show()\n"
   ]
  },
  {
   "cell_type": "code",
   "execution_count": null,
   "id": "1addae73",
   "metadata": {},
   "outputs": [],
   "source": [
    "get_bezirk_tiles(311)"
   ]
  },
  {
   "cell_type": "code",
   "execution_count": null,
   "id": "ffa9bc27",
   "metadata": {},
   "outputs": [],
   "source": [
    "# The following base url is associated with the standard plan\n",
    "# For the demo plan, you need replace the word `standard`\n",
    "# by `demo` in the URL. Note that the demo plan data is limited \n",
    "# to only 27/01/2020, which requires modifications to the code below.\n",
    "\n",
    "# Fetch an access token\n",
    "client = BackendApplicationClient(client_id=client_id)\n",
    "oauth = OAuth2Session(client=client)\n",
    "oauth.fetch_token(token_url=TOKEN_URL, client_id=client_id,\n",
    "                  client_secret=client_secret)\n",
    "assert oauth.authorized\n"
   ]
  },
  {
   "cell_type": "code",
   "execution_count": null,
   "id": "884965d0",
   "metadata": {
    "scrolled": true
   },
   "outputs": [],
   "source": [
    "postal_code = 6020\n",
    "start_date = date(year=2020, month=1, day=27)\n",
    "\n",
    "tile_ids = get_tile_ids_postal_code(postal_code)\n",
    "assert tile_ids\n",
    "\n",
    "get_daily_demographics(start_date, tile_ids)"
   ]
  },
  {
   "cell_type": "code",
   "execution_count": null,
   "id": "88066476",
   "metadata": {
    "scrolled": true
   },
   "outputs": [],
   "source": [
    "plot_density_variation_tile_ids(tile_ids, start_date=start_date, nb_days=1)"
   ]
  },
  {
   "cell_type": "code",
   "execution_count": null,
   "id": "a9142538",
   "metadata": {},
   "outputs": [],
   "source": [
    "print(start_date)"
   ]
  }
 ],
 "metadata": {
  "kernelspec": {
   "display_name": "Python 3 (ipykernel)",
   "language": "python",
   "name": "python3"
  },
  "language_info": {
   "codemirror_mode": {
    "name": "ipython",
    "version": 3
   },
   "file_extension": ".py",
   "mimetype": "text/x-python",
   "name": "python",
   "nbconvert_exporter": "python",
   "pygments_lexer": "ipython3",
   "version": "3.10.7"
  }
 },
 "nbformat": 4,
 "nbformat_minor": 5
}
